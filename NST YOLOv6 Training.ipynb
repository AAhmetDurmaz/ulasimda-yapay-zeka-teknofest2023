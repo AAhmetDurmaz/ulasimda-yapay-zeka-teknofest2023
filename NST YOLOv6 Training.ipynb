{
  "cells": [
    {
      "cell_type": "markdown",
      "metadata": {
        "id": "V61uTMpFjaoi"
      },
      "source": [
        "# YOLOv6 training.\n",
        "TEKNOFEST 2023 Ulaşımda Yapay Zeka finalisti NST takımı YOLOv6 modeli eğitim not defteri.\n",
        "#### [YOLOv6 Repo](https://github.com/meituan/YOLOv6/)\n",
        "---\n",
        "\n"
      ]
    },
    {
      "cell_type": "code",
      "execution_count": null,
      "metadata": {
        "id": "oToukMwPPhPI",
        "vscode": {
          "languageId": "python"
        }
      },
      "outputs": [],
      "source": [
        "!nvidia-smi # Check GPU"
      ]
    },
    {
      "cell_type": "markdown",
      "metadata": {
        "id": "uypwtNt1GkzC"
      },
      "source": [
        "### Verilerinizi Google Drive'da saklıyorsanız burada drive'i bağlamanız gerek."
      ]
    },
    {
      "cell_type": "code",
      "execution_count": null,
      "metadata": {
        "id": "qOpBQyxPlIUq",
        "vscode": {
          "languageId": "python"
        }
      },
      "outputs": [],
      "source": [
        "from google.colab import drive\n",
        "drive.mount('/content/drive')"
      ]
    },
    {
      "cell_type": "code",
      "execution_count": null,
      "metadata": {
        "id": "oJ0xdgfujaVy",
        "vscode": {
          "languageId": "python"
        }
      },
      "outputs": [],
      "source": [
        "!git clone https://github.com/meituan/YOLOv6.git"
      ]
    },
    {
      "cell_type": "markdown",
      "metadata": {
        "id": "w6fSLF8nGkzF"
      },
      "source": [
        "### Veriyi çıkartın.\n",
        "\n",
        "[Buradaki](https://github.com/AAhmetDurmaz/NST-UYZ) scriptleri kullanarak verilerinizi düzenleyebilirsiniz.\n",
        "\n",
        "Veri yapınız şu şekilde olmalıdır:"
      ]
    },
    {
      "cell_type": "markdown",
      "source": [
        "```\n",
        "dataset\n",
        "├── images\n",
        "│   ├── train\n",
        "│   │   ├── train0.jpg\n",
        "│   │   └── train1.jpg\n",
        "│   ├── val\n",
        "│   │   ├── val0.jpg\n",
        "│   │   └── val1.jpg\n",
        "│   └── test\n",
        "│       ├── test0.jpg\n",
        "│       └── test1.jpg\n",
        "└── labels\n",
        "    ├── train\n",
        "    │   ├── train0.txt\n",
        "    │   └── train1.txt\n",
        "    ├── val\n",
        "    │   ├── val0.txt\n",
        "    │   └── val1.txt\n",
        "    └── test\n",
        "        ├── test0.txt\n",
        "        └── test1.txt\n",
        "```"
      ],
      "metadata": {
        "id": "uWPDqf5hHcBF"
      }
    },
    {
      "cell_type": "code",
      "execution_count": null,
      "metadata": {
        "id": "bVOKCaccHLQ8",
        "vscode": {
          "languageId": "python"
        }
      },
      "outputs": [],
      "source": [
        "!unzip nst-v3.3.zip"
      ]
    },
    {
      "cell_type": "markdown",
      "metadata": {
        "id": "wHnc7sfpGkzG"
      },
      "source": [
        "### YOLOv6 reposu içerisindeki \"images\" klasörünü silin."
      ]
    },
    {
      "cell_type": "code",
      "execution_count": null,
      "metadata": {
        "id": "TiGqDiTlF6qJ",
        "vscode": {
          "languageId": "python"
        }
      },
      "outputs": [],
      "source": [
        "!rm -rf YOLOv6/data/images/"
      ]
    },
    {
      "cell_type": "code",
      "execution_count": null,
      "metadata": {
        "id": "nldVRerMlmGu",
        "vscode": {
          "languageId": "python"
        }
      },
      "outputs": [],
      "source": [
        "!mv images/ YOLOv6/data/\n",
        "!mv labels/ YOLOv6/data/"
      ]
    },
    {
      "cell_type": "markdown",
      "metadata": {
        "id": "JnVVjD9VGkzI"
      },
      "source": [
        "### Sınıfları ve train, test, val dizinlerini bildireceğimiz \"dataset.yaml\" dosyasını oluşturun."
      ]
    },
    {
      "cell_type": "code",
      "source": [
        "!touch dataset.yaml"
      ],
      "metadata": {
        "id": "K57XdJ78Gtio"
      },
      "execution_count": null,
      "outputs": []
    },
    {
      "cell_type": "code",
      "source": [
        "# \"dataset.yaml\" dosyasını bu tipte olacak şekilde kendi veriniz ve sınıflarınız için düzenleyin.\n",
        "train: ./data/images/train # train images\n",
        "val: ./data/images/val # val images\n",
        "test: ./data/images/test # test images (optional)\n",
        "\n",
        "# COCO veri seti kullanıyorsanız bu değişkeni True yapmalısınız.\n",
        "is_coco: False\n",
        "nc: 12  # Sınıf sayısı\n",
        "names: ['otomobil','motosiklet','otobus','kamyon','gemi','insan','uap','uai','kepce','tren','vagon','yuk_gemisi']  # class names"
      ],
      "metadata": {
        "id": "L35GPMlQGzEr"
      },
      "execution_count": null,
      "outputs": []
    },
    {
      "cell_type": "markdown",
      "metadata": {
        "id": "kgc7ft4JGkzJ"
      },
      "source": [
        "### Oluşturduğumuz yaml dosyasını \"data\" içerisine kopyalayın."
      ]
    },
    {
      "cell_type": "code",
      "execution_count": null,
      "metadata": {
        "vscode": {
          "languageId": "python"
        },
        "id": "A6W7AHsUGkzJ"
      },
      "outputs": [],
      "source": [
        "!cp dataset.yaml YOLOv6/data/"
      ]
    },
    {
      "cell_type": "code",
      "execution_count": null,
      "metadata": {
        "id": "ZGjMfXXH238V",
        "vscode": {
          "languageId": "python"
        }
      },
      "outputs": [],
      "source": [
        "%cd YOLOv6/"
      ]
    },
    {
      "cell_type": "markdown",
      "metadata": {
        "id": "XxELWOLHGkzK"
      },
      "source": [
        "### YOLOv6 reposu için gereken kütüphaneleri yükleyin."
      ]
    },
    {
      "cell_type": "code",
      "execution_count": null,
      "metadata": {
        "id": "itaAHA7i3Fy8",
        "vscode": {
          "languageId": "python"
        }
      },
      "outputs": [],
      "source": [
        "!pip install -r requirements.txt"
      ]
    },
    {
      "cell_type": "markdown",
      "metadata": {
        "id": "Fr_4A79nGkzK"
      },
      "source": [
        "### YOLOv6 reposu içerisinde gelen \"configs\" klasörü içerisinde kullanacağınız konfigürasyon dosyasını seçin.\n",
        "Finetune işlemi uygulayacağımız için \"yolov6l_finetune.py\" konfigürasyonunu seçtik.\n",
        "Eğitim devam ederken ağırlık dosyaları YOLOv6/runs/train içerisine kaydedilir."
      ]
    },
    {
      "cell_type": "code",
      "execution_count": null,
      "metadata": {
        "id": "EQ0lx8tR29cW",
        "vscode": {
          "languageId": "python"
        }
      },
      "outputs": [],
      "source": [
        "!python tools/train.py --img-size 640 --epochs 100 --batch 32 --conf configs/yolov6l_finetune.py --data data/dataset.yaml --name NST --fuse_ab --device 0"
      ]
    },
    {
      "cell_type": "markdown",
      "metadata": {
        "id": "TMMRxEhFGkzL"
      },
      "source": [
        "### Modeli test etmek için bu satırı kullanabilirsiniz."
      ]
    },
    {
      "cell_type": "code",
      "execution_count": null,
      "metadata": {
        "id": "0zu5H_b5EEEe",
        "vscode": {
          "languageId": "python"
        }
      },
      "outputs": [],
      "source": [
        "!python tools/eval.py --data data/dataset.yaml  --weights runs/train/NST/weights/last_ckpt.pt --task val --device 0"
      ]
    },
    {
      "cell_type": "markdown",
      "metadata": {
        "id": "rRU1FVg3GkzM"
      },
      "source": [
        "### Tarama yapmak için tools/infer.py dosyasını kullanabiliriz."
      ]
    },
    {
      "cell_type": "code",
      "execution_count": null,
      "metadata": {
        "vscode": {
          "languageId": "python"
        },
        "id": "YBTlex4jGkzM"
      },
      "outputs": [],
      "source": [
        "!python tools/infer.py --weights runs/train/NST/weights/last_ckpt.pt --img 640 640 --source test.jpg"
      ]
    }
  ],
  "metadata": {
    "accelerator": "GPU",
    "colab": {
      "provenance": [],
      "private_outputs": true,
      "gpuType": "T4"
    },
    "gpuClass": "standard",
    "kernelspec": {
      "display_name": "Python 3",
      "name": "python3"
    }
  },
  "nbformat": 4,
  "nbformat_minor": 0
}